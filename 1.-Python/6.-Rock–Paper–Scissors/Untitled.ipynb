{
 "cells": [
  {
   "cell_type": "code",
   "execution_count": 12,
   "metadata": {},
   "outputs": [
    {
     "name": "stdout",
     "output_type": "stream",
     "text": [
      "Enter a number11\n",
      "this is a 11\n"
     ]
    }
   ],
   "source": [
    "\n",
    "def function1():\n",
    "    global a\n",
    "    a=input(\"Enter a number\")\n",
    "\n",
    "def function2(a):\n",
    "    print(\"this is a\", a)\n",
    "\n",
    "function1()\n",
    "function2(a)\n",
    "\n"
   ]
  },
  {
   "cell_type": "code",
   "execution_count": 13,
   "metadata": {},
   "outputs": [
    {
     "name": "stdout",
     "output_type": "stream",
     "text": [
      "enter a number13\n",
      "this is an a 13\n"
     ]
    }
   ],
   "source": [
    "def function1():\n",
    "    return input(\"enter a number\")\n",
    "\n",
    "a = function1()\n",
    "\n",
    "def function2(a):\n",
    "    print(\"this is an a\", a)\n",
    "\n",
    "function2(a)\n"
   ]
  },
  {
   "cell_type": "code",
   "execution_count": 20,
   "metadata": {},
   "outputs": [
    {
     "name": "stdout",
     "output_type": "stream",
     "text": [
      "paper\n",
      "paper\n",
      "enter your choice: rock, paper, or scissors and hit enter: rock\n",
      "great, here we go!\n",
      "rock\n"
     ]
    }
   ],
   "source": [
    "import random\n",
    "gesture = ['rock', 'paper', 'scissors']\n",
    "\n",
    "def choice_comp_function(gesture):\n",
    "    gesture_comp = random.choice(gesture)\n",
    "    print(gesture_comp)\n",
    "    return gesture_comp \n",
    "\n",
    "a = choice_comp_function(gesture)\n",
    "print(a)\n",
    "\n",
    "\n",
    "def input_function():\n",
    "    while True:\n",
    "        gesture_player=input(\"enter your choice: rock, paper, or scissors and hit enter: \")\n",
    "        if gesture_player == 'rock':\n",
    "            break\n",
    "        elif gesture_player == 'paper':\n",
    "            break\n",
    "        elif gesture_player == 'scissors':\n",
    "            break\n",
    "        else:\n",
    "            print('I dont know that gesture')\n",
    "    print('great, here we go!')\n",
    "    return gesture_player\n",
    "\n",
    "b = input_function()\n",
    "print(b)\n",
    "\n",
    "\n"
   ]
  },
  {
   "cell_type": "code",
   "execution_count": null,
   "metadata": {},
   "outputs": [],
   "source": []
  }
 ],
 "metadata": {
  "kernelspec": {
   "display_name": "Python 3",
   "language": "python",
   "name": "python3"
  },
  "language_info": {
   "codemirror_mode": {
    "name": "ipython",
    "version": 3
   },
   "file_extension": ".py",
   "mimetype": "text/x-python",
   "name": "python",
   "nbconvert_exporter": "python",
   "pygments_lexer": "ipython3",
   "version": "3.8.5"
  }
 },
 "nbformat": 4,
 "nbformat_minor": 4
}
