{
 "cells": [
  {
   "cell_type": "markdown",
   "metadata": {},
   "source": [
    "<img src=\"https://bit.ly/2VnXWr2\" width=\"100\" align=\"left\">"
   ]
  },
  {
   "cell_type": "markdown",
   "metadata": {},
   "source": [
    "# The Snail and the Well\n",
    "\n",
    "A snail falls at the bottom of a 125 cm well. Each day the snail rises 30 cm. But at night, while sleeping, slides 20 cm because the walls are wet. How many days does it take for the snail to escape the well?\n",
    "\n",
    "**Hint**: The snail gets out of the well when it surpasses the 125cm of height.\n",
    "\n",
    "## Tools\n",
    "\n",
    "1. Loop: **while**\n",
    "2. Conditional statements: **if-else**\n",
    "3. Function: **print()**\n",
    "\n",
    "## Tasks\n",
    "\n",
    "#### 1. Assign the challenge data to variables with representative names: `well_height`, `daily_distance`, `nightly_distance` and `snail_position`."
   ]
  },
  {
   "cell_type": "code",
   "execution_count": 38,
   "metadata": {},
   "outputs": [],
   "source": [
    "well_height = 125\n",
    "daily_distance = 30\n",
    "nightly_distance = -20\n",
    "snail_position = (daily_distance + nightly_distance) "
   ]
  },
  {
   "cell_type": "markdown",
   "metadata": {},
   "source": [
    "\n",
    "#### 2. Create a variable `days` to keep count of the days that pass until the snail escapes the well. "
   ]
  },
  {
   "cell_type": "code",
   "execution_count": 39,
   "metadata": {},
   "outputs": [],
   "source": [
    "days = 0"
   ]
  },
  {
   "cell_type": "markdown",
   "metadata": {},
   "source": [
    "#### 3. Find the solution to the challenge using the variables defined above. "
   ]
  },
  {
   "cell_type": "code",
   "execution_count": 40,
   "metadata": {},
   "outputs": [
    {
     "name": "stdout",
     "output_type": "stream",
     "text": [
      "At the end of day 1, the snail is at 10 centimeters.\n",
      "the snail ends at 20 centimeters at day 2\n",
      "the snail ends at 30 centimeters at day 3\n",
      "the snail ends at 40 centimeters at day 4\n",
      "the snail ends at 50 centimeters at day 5\n",
      "the snail ends at 60 centimeters at day 6\n",
      "the snail ends at 70 centimeters at day 7\n",
      "the snail ends at 80 centimeters at day 8\n",
      "the snail ends at 90 centimeters at day 9\n",
      "the snail ends at 100 centimeters at day 10\n",
      "the snail ends at 110 centimeters at day 11\n",
      "the snail ends at 120 centimeters at day 12\n"
     ]
    }
   ],
   "source": [
    "print(\"At the end of day 1, the snail is at\", snail_position, \"centimeters.\")\n",
    "days += 1\n",
    "\n",
    "while snail_position < well_height:\n",
    "    snail_position_new = snail_position * (days+1)\n",
    "    days += 1\n",
    "    if snail_position_new < 125: \n",
    "        print(\"the snail ends at\", snail_position_new, \"centimeters at day\", days)\n",
    "    else: snail_position = snail_position_new "
   ]
  },
  {
   "cell_type": "markdown",
   "metadata": {},
   "source": [
    "#### 4. Print the solution."
   ]
  },
  {
   "cell_type": "code",
   "execution_count": 41,
   "metadata": {},
   "outputs": [
    {
     "name": "stdout",
     "output_type": "stream",
     "text": [
      "the snail is out of the well at day 13\n"
     ]
    }
   ],
   "source": [
    "print(\"the snail is out of the well at day\", days)"
   ]
  },
  {
   "cell_type": "markdown",
   "metadata": {},
   "source": [
    "## Bonus\n",
    "The distance traveled by the snail each day is now defined by a list.\n",
    "```\n",
    "advance_cm = [30, 21, 33, 77, 44, 45, 23, 45, 12, 34, 55]\n",
    "```\n",
    "On the first day, the snail rises 30cm but during the night it slides 20cm. On the second day, the snail rises 21cm but during the night it slides 20cm, and so on. \n",
    "\n",
    "#### 1. How many days does it take for the snail to escape the well?\n",
    "Follow the same guidelines as in the previous challenge.\n",
    "\n",
    "**Hint**: Remember that the snail gets out of the well when it surpasses the 125cm of height."
   ]
  },
  {
   "cell_type": "code",
   "execution_count": 59,
   "metadata": {},
   "outputs": [
    {
     "name": "stdout",
     "output_type": "stream",
     "text": [
      "at day 0 the snails advances with 30 centimeters but then regresses with -20 so it ends up at 10 centimeters.\n",
      "the snail ends at 11 centimeters at day 2\n",
      "the snail ends at 24 centimeters at day 3\n",
      "the snail ends at 81 centimeters at day 4\n",
      "the snail ends at 105 centimeters at day 5\n",
      "at day 6 the snail ends up at 130 centimeters and is therefore outside the well, since the well is 125 centimeters high.\n"
     ]
    }
   ],
   "source": [
    "well_height = 125\n",
    "advance_cm = [30, 21, 33, 77, 44, 45, 23, 45, 12, 34, 55]\n",
    "days = 0\n",
    "daily_distance = advance_cm[(days)]\n",
    "nightly_distance = -20\n",
    "snail_position = (daily_distance + nightly_distance) \n",
    "\n",
    "print(\"at day\", days, \"the snails advances with\", daily_distance, \"centimeters but then regresses with\", nightly_distance, \"so it ends up at\", snail_position, \"centimeters.\")\n",
    "\n",
    "days += 1\n",
    "\n",
    "while snail_position < well_height:\n",
    "    snail_position_new = snail_position + advance_cm[days] + nightly_distance\n",
    "    snail_position = snail_position_new\n",
    "    days += 1\n",
    "    if snail_position_new < 125: \n",
    "        print(\"the snail ends at\", snail_position_new, \"centimeters at day\", days)\n",
    "    else: snail_position = snail_position_new \n",
    "print(\"at day\", days, \"the snail ends up at\", snail_position,\"centimeters and is therefore outside the well, since the well is\", well_height, \"centimeters high.\")"
   ]
  },
  {
   "cell_type": "markdown",
   "metadata": {},
   "source": [
    "#### 2. What is its maximum displacement in one day? And its minimum? Calculate the displacement using only the travel distance of the days used to get out of the well. \n",
    "**Hint**: Remember that displacement means the total distance risen taking into account that the snail slides at night.  "
   ]
  },
  {
   "cell_type": "code",
   "execution_count": 60,
   "metadata": {},
   "outputs": [
    {
     "name": "stdout",
     "output_type": "stream",
     "text": [
      "57\n"
     ]
    }
   ],
   "source": [
    "max_snail_displacement = max(advance_cm)+nightly_distance\n",
    "print(max_snail_displacement)"
   ]
  },
  {
   "cell_type": "markdown",
   "metadata": {},
   "source": [
    "#### 3. What is its average progress? Take into account the snail slides at night."
   ]
  },
  {
   "cell_type": "code",
   "execution_count": 67,
   "metadata": {},
   "outputs": [
    {
     "name": "stdout",
     "output_type": "stream",
     "text": [
      "18.09090909090909\n",
      "18.090909090909093\n"
     ]
    }
   ],
   "source": [
    "average_progress = (sum(advance_cm)+(len(advance_cm)*nightly_distance))/len(advance_cm)\n",
    "print(average_progress)\n",
    "\n",
    "average_progress_shorter = sum(advance_cm)/len(advance_cm)+nightly_distance\n",
    "print(average_progress_shorter)\n"
   ]
  },
  {
   "cell_type": "markdown",
   "metadata": {},
   "source": [
    "#### 4. What is the standard deviation of its displacement? Take into account the snail slides at night."
   ]
  },
  {
   "cell_type": "code",
   "execution_count": 74,
   "metadata": {},
   "outputs": [
    {
     "name": "stdout",
     "output_type": "stream",
     "text": [
      "standard deviation 17.159437082600803\n"
     ]
    }
   ],
   "source": [
    "import numpy as np\n",
    "print(\"standard deviation\", np.std(advance_cm))\n",
    "#for the STDEV it doesnt matter that the snail slides as night, as each night it slides at the same speed."
   ]
  },
  {
   "cell_type": "code",
   "execution_count": null,
   "metadata": {},
   "outputs": [],
   "source": []
  }
 ],
 "metadata": {
  "kernelspec": {
   "display_name": "Python 3",
   "language": "python",
   "name": "python3"
  },
  "language_info": {
   "codemirror_mode": {
    "name": "ipython",
    "version": 3
   },
   "file_extension": ".py",
   "mimetype": "text/x-python",
   "name": "python",
   "nbconvert_exporter": "python",
   "pygments_lexer": "ipython3",
   "version": "3.8.5"
  }
 },
 "nbformat": 4,
 "nbformat_minor": 2
}
